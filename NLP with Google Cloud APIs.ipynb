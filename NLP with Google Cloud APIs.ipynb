{
 "cells": [
  {
   "cell_type": "code",
   "execution_count": 1,
   "metadata": {
    "scrolled": true
   },
   "outputs": [],
   "source": [
    "# to use Google cloud API service, need to create an API key\n",
    "API_Key =\"AIzaSy_ih0P-_OC-bKB0H9zAsE\"\n",
    "\n",
    "# install googleapiclient with:\n",
    "# pip install --upgrade google-api-python-client\n",
    "\n",
    "# if you want to send the image or audio data as base64-encoded text for google analyzing\n",
    "# import base64\n",
    "\n",
    "from googleapiclient.discovery import build"
   ]
  },
  {
   "cell_type": "code",
   "execution_count": 2,
   "metadata": {},
   "outputs": [
    {
     "name": "stdout",
     "output_type": "stream",
     "text": [
      "Type in English to translate to Chinese --> When you can’t find the sunshine, be the sunshine.\n",
      "\n",
      "When you can’t find the sunshine, be the sunshine.\n",
      "->\n",
      "当你找不到阳光，成为阳光。\n",
      "\n"
     ]
    }
   ],
   "source": [
    "#--------------Translation\n",
    "\n",
    "t_service = build('translate', 'v2', developerKey=API_Key)\n",
    "translate_input = input('Type in English to translate to Chinese --> ')\n",
    "t_input = []\n",
    "t_input.append(translate_input)\n",
    "#en=English, zh=Chinese\n",
    "outputs = t_service.translations().list(source='en', target='zh', q=t_input).execute()\n",
    "for the_input, output in zip(t_input, outputs['translations']):\n",
    "\tprint(f\"\\n{the_input}\\n->\\n{output['translatedText']}\\n\")"
   ]
  },
  {
   "cell_type": "code",
   "execution_count": 3,
   "metadata": {
    "scrolled": true
   },
   "outputs": [
    {
     "name": "stdout",
     "output_type": "stream",
     "text": [
      "Extract text from an image and translate into English. Enter an image URL--> http://www.strippedpixel.com/wp-content/uploads/2014/09/chinese-sign-2.jpg\n",
      "Language code --> zh,\n",
      "\n",
      " Content:\n",
      "\n",
      "请把手纸丟\n",
      "入垃圾筒内\n",
      "谢谢!\n",
      "\n",
      "Translation:\n",
      "Please throw the paper into the trash can. Thank you!\n",
      "\n",
      "\n"
     ]
    }
   ],
   "source": [
    "#--------------Image detection\n",
    "\n",
    "IMAGE = input('Extract text from an image and translate into English. Enter an image URL--> ')\n",
    "v_service = build('vision', 'v1', developerKey=API_Key)\n",
    "request = v_service.images().annotate(body={\n",
    "\t'requests': [{\n",
    "\t\t'image': {\n",
    "\t\t\t'source': {\n",
    "\t\t\t\t'imageUri':IMAGE\n",
    "\t\t\t}\n",
    "\t\t},\n",
    "\t\t'features': [{\n",
    "\t\t\t'type': 'TEXT_DETECTION',\n",
    "\t\t\t# 'type': 'LABEL_DETECTION',\n",
    "\t\t\t'maxResults':3,\n",
    "\t\t}]\n",
    "\t}],\n",
    "})\n",
    "responses = request.execute()\n",
    "\n",
    "foreign_text = responses['responses'][0]['textAnnotations'][0]['description']\n",
    "language_code = responses['responses'][0]['textAnnotations'][0]['locale']\n",
    "\n",
    "print(f'Language code --> {language_code},\\n\\n Content:\\n\\n{foreign_text}')\n",
    "\n",
    "\n",
    "#--------------translate sign\n",
    "if language_code != 'en':\n",
    "    t_service = build('translate', 'v2', developerKey=API_Key)\n",
    "    t_input = []\n",
    "    t_input.append(foreign_text)\n",
    "    outputs = t_service.translations().list(source=language_code, target='en', q=t_input).execute() \n",
    "    for the_input, output in zip(t_input, outputs['translations']):\n",
    "    \tprint(f'Translation:\\n{output[\"translatedText\"]}\\n\\n')"
   ]
  },
  {
   "cell_type": "code",
   "execution_count": 6,
   "metadata": {},
   "outputs": [
    {
     "name": "stdout",
     "output_type": "stream",
     "text": [
      "To analyse sentiment in sentences. Type them into here --> What an amazing vehicle I have just purchased, Looks amazing and drives well on road. Great turning circle for such a large vehicle and loads of clearance with great view from front cabin.\n",
      "\n",
      "\n",
      "Analyzing following sentences\n",
      "['What an amazing vehicle I have just purchased, Looks amazing and drives well on road. Great turning circle for such a large vehicle and loads of clearance with great view from front cabin.']\n",
      "Language code --> en\n",
      "Sentiment score: 0.9 <-- (-1~+1), therefore sentiment of the input is Very Positive\n",
      "\n"
     ]
    }
   ],
   "source": [
    "#--------------Sentiment analysis\n",
    "\n",
    "l_service = build('language', 'v1', developerKey=API_Key)\n",
    "senti_input = input(\n",
    "\t'To analyse sentiment in sentences. Type them into here --> ')\n",
    "s_input = []\n",
    "s_input.append(senti_input)\n",
    "\n",
    "for a_s_input in s_input:\n",
    "\tresponses = l_service.documents().analyzeSentiment(\n",
    "\t\tbody={\n",
    "\t\t\t'document': {\n",
    "\t\t\t\t'type': 'PLAIN_TEXT',\n",
    "\t\t\t\t'content': a_s_input\n",
    "\t\t\t}\n",
    "\t\t}\n",
    "\t).execute()\n",
    "\tsentiment = responses['documentSentiment']['score']\n",
    "\tlanguage_code = responses['language']\n",
    "\t# print(responses)\n",
    "\t\t\n",
    "\tif sentiment > 0.75:\n",
    "\t\tsentiment_score = 'Very Positive'\n",
    "\telif sentiment > 0.5:\n",
    "\t\tsentiment_score = 'Pretty Positive'\n",
    "\telif sentiment > 0.25:\n",
    "\t\tsentiment_score = 'Quite Positive'\n",
    "\telif sentiment > 0.1:\n",
    "\t\tsentiment_score = 'Fairly Positive'\n",
    "\telif sentiment > -0.1:\n",
    "\t\tsentiment_score = 'Neutral'\n",
    "\telif sentiment > -0.25:\n",
    "\t\tsentiment_score = 'Fairly Negative'\n",
    "\telif sentiment > -0.5:\n",
    "\t\tsentiment_score = 'Quite Negative'\n",
    "\telif sentiment > -0.75:\n",
    "\t\tsentiment_score = 'Pretty Negative'\n",
    "\telse:\n",
    "\t\tsentiment_score = 'Very Negative'\n",
    "\tprint(f'\\n\\nAnalyzing following sentences\\n{s_input}')\n",
    "\tprint(f'Language code --> {language_code}')\n",
    "\tprint(\n",
    "\t\tf'Sentiment score: {sentiment} <-- (-1~+1), therefore sentiment of the input is {sentiment_score}\\n')"
   ]
  },
  {
   "cell_type": "code",
   "execution_count": 5,
   "metadata": {},
   "outputs": [
    {
     "name": "stdout",
     "output_type": "stream",
     "text": [
      "Transcript of the audio --> how old is the Brooklyn Bridge\n",
      "Confidence of being correct --> 0.9836168\n"
     ]
    }
   ],
   "source": [
    "#--------------Speech dictation\n",
    "\n",
    "s_service = build('speech', 'v1', developerKey=API_Key)\n",
    "responses = s_service.speech().recognize(\n",
    "\tbody={\n",
    "\t\t'config': {\n",
    "\t\t\t'encoding': 'FLAC',\n",
    "\t\t\t'sampleRateHertz': 16000,\n",
    "\t\t\t\"languageCode\": \"en-US\"\n",
    "\t\t},\n",
    "\t\t'audio': {\n",
    "\t\t\t'uri': 'gs://cloud-samples-tests/speech/brooklyn.flac'\n",
    "\t\t}\n",
    "\t}\n",
    ").execute()\n",
    "# print(responses)\n",
    "\n",
    "transcript = responses['results'][0]['alternatives'][0]['transcript']\n",
    "print(f'Transcript of the audio --> {transcript}')\n",
    "confidence = responses['results'][0]['alternatives'][0]['confidence']\n",
    "print(f'Confidence of being correct --> {confidence}')"
   ]
  }
 ],
 "metadata": {
  "kernelspec": {
   "display_name": "Python 3",
   "language": "python",
   "name": "python3"
  },
  "language_info": {
   "codemirror_mode": {
    "name": "ipython",
    "version": 3
   },
   "file_extension": ".py",
   "mimetype": "text/x-python",
   "name": "python",
   "nbconvert_exporter": "python",
   "pygments_lexer": "ipython3",
   "version": "3.6.6"
  }
 },
 "nbformat": 4,
 "nbformat_minor": 2
}
